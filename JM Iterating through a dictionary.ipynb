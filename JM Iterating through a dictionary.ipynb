{
 "cells": [
  {
   "cell_type": "code",
   "execution_count": 4,
   "metadata": {},
   "outputs": [
    {
     "name": "stdout",
     "output_type": "stream",
     "text": [
      "{1: 'Battlefield', 2: 'Final Destination', 3: 'Pokémon Stadium 2', 4: 'Smashville', 5: 'Town and City', 6: 'Yoshi’s Story', 7: 'Lylat Cruise', 8: 'Unova Pokémon League', 9: 'Kalos Pokémon League'}\n",
      "Type in the corresponding number of the stage you would like to select.1\n",
      "You have selected Battlefield\n",
      "{2: 'Final Destination', 3: 'Pokémon Stadium 2', 4: 'Smashville', 5: 'Town and City', 6: 'Yoshi’s Story', 7: 'Lylat Cruise', 8: 'Unova Pokémon League', 9: 'Kalos Pokémon League'}\n",
      "Type in the corresponding number of the stage you would like to select.2\n",
      "You have selected Final Destination\n",
      "{3: 'Pokémon Stadium 2', 4: 'Smashville', 5: 'Town and City', 6: 'Yoshi’s Story', 7: 'Lylat Cruise', 8: 'Unova Pokémon League', 9: 'Kalos Pokémon League'}\n",
      "Type in the corresponding number of the stage you would like to select.3\n",
      "You have selected Pokémon Stadium 2\n",
      "{4: 'Smashville', 5: 'Town and City', 6: 'Yoshi’s Story', 7: 'Lylat Cruise', 8: 'Unova Pokémon League', 9: 'Kalos Pokémon League'}\n",
      "Type in the corresponding number of the stage you would like to select.4\n",
      "You have selected Smashville\n",
      "{5: 'Town and City', 6: 'Yoshi’s Story', 7: 'Lylat Cruise', 8: 'Unova Pokémon League', 9: 'Kalos Pokémon League'}\n",
      "Type in the corresponding number of the stage you would like to select.5\n",
      "You have selected Town and City\n",
      "{6: 'Yoshi’s Story', 7: 'Lylat Cruise', 8: 'Unova Pokémon League', 9: 'Kalos Pokémon League'}\n",
      "Type in the corresponding number of the stage you would like to select.6\n",
      "You have selected Yoshi’s Story\n",
      "{7: 'Lylat Cruise', 8: 'Unova Pokémon League', 9: 'Kalos Pokémon League'}\n",
      "Type in the corresponding number of the stage you would like to select.7\n",
      "You have selected Lylat Cruise\n",
      "{8: 'Unova Pokémon League', 9: 'Kalos Pokémon League'}\n",
      "Type in the corresponding number of the stage you would like to select.8\n",
      "You have selected Unova Pokémon League\n",
      "{9: 'Kalos Pokémon League'}\n",
      "Type in the corresponding number of the stage you would like to select.9\n",
      "You have selected Kalos Pokémon League\n",
      "You have used all the stages\n"
     ]
    }
   ],
   "source": [
    "stages={1:'Battlefield',\n",
    "        2:'Final Destination', \n",
    "        3:'Pokémon Stadium 2', \n",
    "        4:'Smashville', \n",
    "        5:'Town and City', \n",
    "        6:'Yoshi’s Story', \n",
    "        7:'Lylat Cruise' , \n",
    "        8:'Unova Pokémon League', \n",
    "        9:'Kalos Pokémon League'}\n",
    "\n",
    "while True:\n",
    "    \n",
    "    print(stages)\n",
    "    \n",
    "    selection=int(input('Type in the corresponding number of the stage you would like to select.'))\n",
    "    #prints if the inputted selection is in the dictionary\n",
    "    while selection in stages:\n",
    "        \n",
    "        print ('You have selected '  + stages[selection])\n",
    "                         \n",
    "        stages.pop(selection) \n",
    "                     \n",
    "        break\n",
    "    #prints if the inputted selection is NOT in the dictionary    \n",
    "    else: \n",
    "        \n",
    "        print('Sorry your selection is not in the list. Try again.')\n",
    "            \n",
    "        continue\n",
    "    #checks if dictionary is empty and breaks loop\n",
    "    if not stages:\n",
    "        \n",
    "        print('You have used all the stages')\n",
    "        \n",
    "        break\n",
    "    \n",
    "    "
   ]
  }
 ],
 "metadata": {
  "kernelspec": {
   "display_name": "Python 3",
   "language": "python",
   "name": "python3"
  },
  "language_info": {
   "codemirror_mode": {
    "name": "ipython",
    "version": 3
   },
   "file_extension": ".py",
   "mimetype": "text/x-python",
   "name": "python",
   "nbconvert_exporter": "python",
   "pygments_lexer": "ipython3",
   "version": "3.7.3"
  }
 },
 "nbformat": 4,
 "nbformat_minor": 2
}
